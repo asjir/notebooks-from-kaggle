{
 "cells": [
  {
   "cell_type": "code",
   "execution_count": 1,
   "metadata": {
    "_cell_guid": "b1076dfc-b9ad-4769-8c92-a6c4dae69d19",
    "_kg_hide-input": true,
    "_uuid": "8f2839f25d086af736a60e9eeb907d3b93b6e0e5"
   },
   "outputs": [
    {
     "name": "stdout",
     "output_type": "stream",
     "text": [
      "['train.csv', 'sample_submission.csv', 'test.csv']\n",
      "(250, 302)\n"
     ]
    }
   ],
   "source": [
    "# This Python 3 environment comes with many helpful analytics libraries installed\n",
    "# It is defined by the kaggle/python docker image: https://github.com/kaggle/docker-python\n",
    "# For example, here's several helpful packages to load in \n",
    "\n",
    "import numpy as np # linear algebra\n",
    "import pandas as pd # data processing, CSV file I/O (e.g. pd.read_csv)\n",
    "from sklearn.metrics import roc_auc_score\n",
    "import xgboost as xgb\n",
    "from matplotlib import pyplot as plt\n",
    "\n",
    "# Input data files are available in the \"../input/\" directory.\n",
    "# For example, running this (by clicking run or pressing Shift+Enter) will list the files in the input directory\n",
    "\n",
    "import os\n",
    "print(os.listdir(\"../input\"))\n",
    "train = pd.read_csv('../input/train.csv')\n",
    "test = pd.read_csv('../input/test.csv')\n",
    "sub = pd.read_csv('../input/sample_submission.csv')\n",
    "print(train.shape)\n",
    "X_a = train.drop(['id', 'target'], axis=1)\n",
    "y_a = train['target']\n",
    "X_test = test.drop(['id'], axis=1)\n",
    "# Any results you write to the current directory are saved as output.\n",
    "import warnings\n",
    "warnings.filterwarnings('ignore')"
   ]
  },
  {
   "cell_type": "markdown",
   "metadata": {},
   "source": [
    "Version two uses hyperparameters found by skopt search, let's see how it performs.\n",
    "\n",
    "C=10 made no sense for linear regression, no idea what was wrong with the search that it gave me that as the answer though."
   ]
  },
  {
   "cell_type": "code",
   "execution_count": 2,
   "metadata": {},
   "outputs": [],
   "source": [
    "from sklearn.model_selection import train_test_split as ttsplit\n",
    "from sklearn.naive_bayes import GaussianNB\n",
    "from sklearn.neighbors import KNeighborsClassifier\n",
    "from tqdm import trange\n",
    "from sklearn.linear_model import LogisticRegression\n",
    "from sklearn.ensemble import AdaBoostClassifier"
   ]
  },
  {
   "cell_type": "markdown",
   "metadata": {},
   "source": [
    "nbc = GaussianNB()\n",
    "nbc.fit(X_a, y_a)\n",
    "sub.target = nbc.predict_proba(X_test)\n",
    "sub.to_csv(\"submission.csv\", index=False)\n"
   ]
  },
  {
   "cell_type": "code",
   "execution_count": 3,
   "metadata": {},
   "outputs": [],
   "source": [
    "param = {'objective':'binary:logistic', 'eval_metric':['auc'], 'eta':0.015, 'max_depth':1, 'colsample_bytree':1, 'subsample':0.5, 'n_estimators':30, 'tree_method': 'gpu_hist', 'verbose':0\n",
    "        }\n",
    "\n",
    "num_round = 100"
   ]
  },
  {
   "cell_type": "code",
   "execution_count": 4,
   "metadata": {},
   "outputs": [
    {
     "name": "stderr",
     "output_type": "stream",
     "text": [
      "100%|██████████| 500/500 [01:18<00:00,  6.46it/s]"
     ]
    },
    {
     "name": "stdout",
     "output_type": "stream",
     "text": [
      "0.7320484419244824 0.7464131909874508 0.7880944658765843\n"
     ]
    },
    {
     "name": "stderr",
     "output_type": "stream",
     "text": [
      "\n"
     ]
    }
   ],
   "source": [
    "scoresa = []\n",
    "scoresg = []\n",
    "scores1 = []\n",
    "scores2 = []\n",
    "scores3 = []\n",
    "scores4 = []\n",
    "scores5 = []\n",
    "precision = 10\n",
    "for i in trange(500):\n",
    "    X_train, X_val, y_train, y_val = ttsplit(X_a, y_a, test_size = 0.2)\n",
    "#    knc = KNeighborsClassifier(n_neighbors=100, weights='distance')\n",
    "#    knc.fit(X_train, y_train)\n",
    "#    pred1 = knc.predict_proba(X_val)[:,1]\n",
    "#    scores1+=[roc_auc_score(y_val, pred1)]\n",
    "\n",
    "    nbc = GaussianNB()\n",
    "    nbc.fit(X_train, y_train)\n",
    "    pred2 = nbc.predict_proba(X_val)[:,1]\n",
    "    scores2+=[roc_auc_score(y_val, pred2)]\n",
    "    \n",
    "    lr = LogisticRegression(solver = 'liblinear', C = .1, penalty = 'l1')\n",
    "    lr.fit(X_train, y_train)\n",
    "    pred3 = lr.predict_proba(X_val)[:,1]\n",
    "    scores3+=[roc_auc_score(y_val, pred3)]\n",
    "    \n",
    "#    ab = AdaBoostClassifier(base_estimator=None, n_estimators=3, learning_rate=1.0)\n",
    "#    ab.fit(X_train, y_train)\n",
    "#    pred4 = ab.predict_proba(X_val)[:,1]\n",
    "#    scores4+=[roc_auc_score(y_val, pred4)]\n",
    "    \n",
    "    dtrain = xgb.DMatrix(X_train, y_train)\n",
    "    dval = xgb.DMatrix(X_val, y_val)\n",
    "    evallist = [ (dtrain, 'train'), (dval, 'eval')]\n",
    "    bst1 = xgb.train(param, dtrain, num_round, evallist, early_stopping_rounds = 10, verbose_eval = False)\n",
    "    pred5 = bst1.predict(xgb.DMatrix(X_val), ntree_limit=bst1.best_ntree_limit)\n",
    "    scores5+=[roc_auc_score(y_val, pred5)]\n",
    "    \n",
    "    generalA = np.zeros((precision,precision)) #all possible arithmetic means\n",
    "    for j in range(precision):\n",
    "        for k in range(precision-j):\n",
    "            generalA[j,k] = ( roc_auc_score(y_val,( (pred2*j+pred5*k+pred3*(precision-j-k))/precision )))\n",
    "\n",
    "    scoresa+=[generalA]\n",
    "    \n",
    "\n",
    "print(np.average(np.array(scores2)),np.average(np.array(scores5)),np.average(np.array(scores3)))"
   ]
  },
  {
   "cell_type": "code",
   "execution_count": 5,
   "metadata": {},
   "outputs": [
    {
     "name": "stdout",
     "output_type": "stream",
     "text": [
      "[[0.95236165 0.96849242 0.98332632 1.00236587 1.028396   1.06559851\n",
      "  1.10752682 1.13938098 1.15167401 1.07380012]\n",
      " [1.30548179 1.34081685 1.37783801 1.41415831 1.45322942 1.4836449\n",
      "  1.47786269 1.41711457 1.23562998 0.        ]\n",
      " [1.38015156 1.37953223 1.36553318 1.35246415 1.3169259  1.25374543\n",
      "  1.15003533 0.9378358  0.         0.        ]\n",
      " [1.2795745  1.24852755 1.20003456 1.15134236 1.07144613 0.96443922\n",
      "  0.76586509 0.         0.         0.        ]\n",
      " [1.12935965 1.0744036  1.01317822 0.93772971 0.82747901 0.62653548\n",
      "  0.         0.         0.         0.        ]\n",
      " [0.96750086 0.91123843 0.82636173 0.7178132  0.51941467 0.\n",
      "  0.         0.         0.         0.        ]\n",
      " [0.82011523 0.73707848 0.61494273 0.43063339 0.         0.\n",
      "  0.         0.         0.         0.        ]\n",
      " [0.65421518 0.5261833  0.34652201 0.         0.         0.\n",
      "  0.         0.         0.         0.        ]\n",
      " [0.44794158 0.26564259 0.         0.         0.         0.\n",
      "  0.         0.         0.         0.        ]\n",
      " [0.18756413 0.         0.         0.         0.         0.\n",
      "  0.         0.         0.         0.        ]]\n"
     ]
    },
    {
     "data": {
      "image/png": "[encoded data removed]",
      "text/plain": [
       "<Figure size 432x288 with 1 Axes>"
      ]
     },
     "metadata": {},
     "output_type": "display_data"
    }
   ],
   "source": [
    "scoresa = np.array(scoresa)\n",
    "plot = np.maximum(np.average(scoresa, axis=0)-0.75, 0)*25\n",
    "plt.imshow(plot)\n",
    "print(plot)"
   ]
  },
  {
   "cell_type": "markdown",
   "metadata": {},
   "source": [
    "So based on above picture I can slightly limit my search:"
   ]
  },
  {
   "cell_type": "code",
   "execution_count": 6,
   "metadata": {},
   "outputs": [
    {
     "name": "stderr",
     "output_type": "stream",
     "text": [
      "100%|██████████| 500/500 [03:26<00:00,  2.23it/s]"
     ]
    },
    {
     "name": "stdout",
     "output_type": "stream",
     "text": [
      "0.730274717859264 0.7449240687952038 0.788327592355937\n"
     ]
    },
    {
     "name": "stderr",
     "output_type": "stream",
     "text": [
      "\n"
     ]
    }
   ],
   "source": [
    "scoresa = []\n",
    "scoresg = []\n",
    "scores1 = []\n",
    "scores2 = []\n",
    "scores3 = []\n",
    "scores4 = []\n",
    "scores5 = []\n",
    "precision = 100\n",
    "for i in trange(500):\n",
    "    X_train, X_val, y_train, y_val = ttsplit(X_a, y_a, test_size = 0.2)\n",
    "#    knc = KNeighborsClassifier(n_neighbors=100, weights='distance')       not everything worked well enough to make sense including it in the search\n",
    "#    knc.fit(X_train, y_train)\n",
    "#    pred1 = knc.predict_proba(X_val)[:,1]\n",
    "#    scores1+=[roc_auc_score(y_val, pred1)]\n",
    "\n",
    "    nbc = GaussianNB()\n",
    "    nbc.fit(X_train, y_train)\n",
    "    pred2 = nbc.predict_proba(X_val)[:,1]\n",
    "    scores2+=[roc_auc_score(y_val, pred2)]\n",
    "    \n",
    "    lr = LogisticRegression(solver = 'liblinear', C = 0.1, penalty = 'l1')\n",
    "    lr.fit(X_train, y_train)\n",
    "    pred3 = lr.predict_proba(X_val)[:,1]\n",
    "    scores3+=[roc_auc_score(y_val, pred3)]\n",
    "    \n",
    "#    ab = AdaBoostClassifier(base_estimator=None, n_estimators=3, learning_rate=1.0)\n",
    "#    ab.fit(X_train, y_train)\n",
    "#    pred4 = ab.predict_proba(X_val)[:,1]\n",
    "#    scores4+=[roc_auc_score(y_val, pred4)]\n",
    "    \n",
    "    dtrain = xgb.DMatrix(X_train, y_train)\n",
    "    dval = xgb.DMatrix(X_val, y_val)\n",
    "    evallist = [ (dtrain, 'train'), (dval, 'eval')]\n",
    "    bst1 = xgb.train(param, dtrain, num_round, evallist, early_stopping_rounds = 10, verbose_eval = False)\n",
    "    pred5 = bst1.predict(xgb.DMatrix(X_val), ntree_limit=bst1.best_ntree_limit)\n",
    "    scores5+=[roc_auc_score(y_val, pred5)]\n",
    "    \n",
    "    generalA = np.zeros((precision,precision)) #all possible arithmetic means\n",
    "    for j in range(0,20):\n",
    "        for k in range(40,60):\n",
    "            generalA[j,k] = ( roc_auc_score(y_val,( (pred2*j+pred5*k+pred3*(precision-j-k))/precision )))\n",
    "\n",
    "    scoresa+=[generalA]\n",
    "    \n",
    "\n",
    "print(np.average(np.array(scores2)),np.average(np.array(scores5)),np.average(np.array(scores3)))"
   ]
  },
  {
   "cell_type": "code",
   "execution_count": 7,
   "metadata": {},
   "outputs": [
    {
     "name": "stdout",
     "output_type": "stream",
     "text": [
      "[[[0. 0. 0. ... 0. 0. 0.]\n",
      "  [0. 0. 0. ... 0. 0. 0.]\n",
      "  [0. 0. 0. ... 0. 0. 0.]\n",
      "  ...\n",
      "  [0. 0. 0. ... 0. 0. 0.]\n",
      "  [0. 0. 0. ... 0. 0. 0.]\n",
      "  [0. 0. 0. ... 0. 0. 0.]]\n",
      "\n",
      " [[0. 0. 0. ... 0. 0. 0.]\n",
      "  [0. 0. 0. ... 0. 0. 0.]\n",
      "  [0. 0. 0. ... 0. 0. 0.]\n",
      "  ...\n",
      "  [0. 0. 0. ... 0. 0. 0.]\n",
      "  [0. 0. 0. ... 0. 0. 0.]\n",
      "  [0. 0. 0. ... 0. 0. 0.]]\n",
      "\n",
      " [[0. 0. 0. ... 0. 0. 0.]\n",
      "  [0. 0. 0. ... 0. 0. 0.]\n",
      "  [0. 0. 0. ... 0. 0. 0.]\n",
      "  ...\n",
      "  [0. 0. 0. ... 0. 0. 0.]\n",
      "  [0. 0. 0. ... 0. 0. 0.]\n",
      "  [0. 0. 0. ... 0. 0. 0.]]\n",
      "\n",
      " ...\n",
      "\n",
      " [[0. 0. 0. ... 0. 0. 0.]\n",
      "  [0. 0. 0. ... 0. 0. 0.]\n",
      "  [0. 0. 0. ... 0. 0. 0.]\n",
      "  ...\n",
      "  [0. 0. 0. ... 0. 0. 0.]\n",
      "  [0. 0. 0. ... 0. 0. 0.]\n",
      "  [0. 0. 0. ... 0. 0. 0.]]\n",
      "\n",
      " [[0. 0. 0. ... 0. 0. 0.]\n",
      "  [0. 0. 0. ... 0. 0. 0.]\n",
      "  [0. 0. 0. ... 0. 0. 0.]\n",
      "  ...\n",
      "  [0. 0. 0. ... 0. 0. 0.]\n",
      "  [0. 0. 0. ... 0. 0. 0.]\n",
      "  [0. 0. 0. ... 0. 0. 0.]]\n",
      "\n",
      " [[0. 0. 0. ... 0. 0. 0.]\n",
      "  [0. 0. 0. ... 0. 0. 0.]\n",
      "  [0. 0. 0. ... 0. 0. 0.]\n",
      "  ...\n",
      "  [0. 0. 0. ... 0. 0. 0.]\n",
      "  [0. 0. 0. ... 0. 0. 0.]\n",
      "  [0. 0. 0. ... 0. 0. 0.]]]\n"
     ]
    },
    {
     "data": {
      "text/plain": [
       "0.80945555499377"
      ]
     },
     "execution_count": 7,
     "metadata": {},
     "output_type": "execute_result"
    },
    {
     "data": {
      "image/png": "[encoded data removed]",
      "text/plain": [
       "<Figure size 432x288 with 1 Axes>"
      ]
     },
     "metadata": {},
     "output_type": "display_data"
    }
   ],
   "source": [
    "scoresa = np.array(scoresa)\n",
    "print(scoresa[0:20,40:60])\n",
    "plot = np.maximum(np.average(scoresa[40:60,0:20], axis=0)-0.75, 0)*25\n",
    "plt.imshow(plot)\n",
    "\n",
    "np.max(np.average(scoresa, axis = 0))"
   ]
  },
  {
   "cell_type": "markdown",
   "metadata": {},
   "source": [
    "So something like 0.1, 0.55, 0.35 should be close enough"
   ]
  },
  {
   "cell_type": "code",
   "execution_count": 8,
   "metadata": {},
   "outputs": [],
   "source": [
    "X_train, X_val, y_train, y_val = ttsplit(X_a, y_a, test_size = 0.2)\n",
    "nbc = GaussianNB()\n",
    "nbc.fit(X_a, y_a)\n",
    "pred2 = nbc.predict_proba(X_test)[:,1]\n",
    "\n",
    "lr = LogisticRegression(solver = 'liblinear', C = 0.1, penalty = 'l1')\n",
    "lr.fit(X_a, y_a)\n",
    "pred3 = lr.predict_proba(X_test)[:,1]\n",
    "\n",
    "dtrain = xgb.DMatrix(X_train, y_train)\n",
    "dval = xgb.DMatrix(X_val, y_val)\n",
    "evallist = [ (dtrain, 'train'), (dval, 'eval')]\n",
    "bst1 = xgb.train(param, dtrain, num_round, evallist, early_stopping_rounds = 10, verbose_eval = False)\n",
    "pred5 = bst1.predict(xgb.DMatrix(X_test), ntree_limit=bst1.best_ntree_limit)\n",
    "\n",
    "pred = pred2*0.1+pred3*0.35+pred5*0.55\n"
   ]
  },
  {
   "cell_type": "code",
   "execution_count": 9,
   "metadata": {},
   "outputs": [],
   "source": [
    "sub.target = pred\n",
    "sub.to_csv('submission.csv', index=False)"
   ]
  },
  {
   "cell_type": "code",
   "execution_count": 10,
   "metadata": {},
   "outputs": [],
   "source": []
  }
 ],
 "metadata": {
  "kernelspec": {
   "display_name": "Python 3",
   "language": "python",
   "name": "python3"
  },
  "language_info": {
   "codemirror_mode": {
    "name": "ipython",
    "version": 3
   },
   "file_extension": ".py",
   "mimetype": "text/x-python",
   "name": "python",
   "nbconvert_exporter": "python",
   "pygments_lexer": "ipython3",
   "version": "3.6.4"
  }
 },
 "nbformat": 4,
 "nbformat_minor": 1
}
